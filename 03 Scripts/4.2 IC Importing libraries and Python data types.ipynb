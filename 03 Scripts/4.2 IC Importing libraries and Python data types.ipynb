{
 "cells": [
  {
   "cell_type": "markdown",
   "id": "a5dd4657",
   "metadata": {},
   "source": [
    "#01. Importing Libraries"
   ]
  },
  {
   "cell_type": "code",
   "execution_count": 1,
   "id": "fa9ec1ad",
   "metadata": {},
   "outputs": [],
   "source": [
    "# Import libraries\n",
    "import pandas as pd\n",
    "import numpy as np\n",
    "import os"
   ]
  },
  {
   "cell_type": "markdown",
   "id": "9393d9ad",
   "metadata": {},
   "source": [
    "#02. Python data types"
   ]
  },
  {
   "cell_type": "code",
   "execution_count": 2,
   "id": "e50441c6",
   "metadata": {},
   "outputs": [],
   "source": [
    "y = 25"
   ]
  },
  {
   "cell_type": "code",
   "execution_count": 3,
   "id": "369159de",
   "metadata": {},
   "outputs": [],
   "source": [
    "x = 75"
   ]
  },
  {
   "cell_type": "code",
   "execution_count": 4,
   "id": "9b2045db",
   "metadata": {},
   "outputs": [
    {
     "name": "stdout",
     "output_type": "stream",
     "text": [
      "75\n"
     ]
    }
   ],
   "source": [
    "print (x)"
   ]
  },
  {
   "cell_type": "code",
   "execution_count": 5,
   "id": "e9369633",
   "metadata": {},
   "outputs": [
    {
     "ename": "NameError",
     "evalue": "name 'Print' is not defined",
     "output_type": "error",
     "traceback": [
      "\u001b[0;31m---------------------------------------------------------------------------\u001b[0m",
      "\u001b[0;31mNameError\u001b[0m                                 Traceback (most recent call last)",
      "Cell \u001b[0;32mIn[5], line 1\u001b[0m\n\u001b[0;32m----> 1\u001b[0m Print(y)\n",
      "\u001b[0;31mNameError\u001b[0m: name 'Print' is not defined"
     ]
    }
   ],
   "source": [
    "Print(y)"
   ]
  },
  {
   "cell_type": "code",
   "execution_count": 6,
   "id": "54614edb",
   "metadata": {},
   "outputs": [
    {
     "name": "stdout",
     "output_type": "stream",
     "text": [
      "25\n"
     ]
    }
   ],
   "source": [
    "print(y)"
   ]
  },
  {
   "cell_type": "code",
   "execution_count": 7,
   "id": "5c3f6777",
   "metadata": {},
   "outputs": [
    {
     "data": {
      "text/plain": [
       "100"
      ]
     },
     "execution_count": 7,
     "metadata": {},
     "output_type": "execute_result"
    }
   ],
   "source": [
    "x + y"
   ]
  },
  {
   "cell_type": "code",
   "execution_count": 8,
   "id": "98256caa",
   "metadata": {},
   "outputs": [],
   "source": [
    "x = 200"
   ]
  },
  {
   "cell_type": "code",
   "execution_count": 9,
   "id": "8bfb68ee",
   "metadata": {},
   "outputs": [
    {
     "name": "stdout",
     "output_type": "stream",
     "text": [
      "200\n"
     ]
    }
   ],
   "source": [
    "print(x)"
   ]
  },
  {
   "cell_type": "code",
   "execution_count": 10,
   "id": "b30864a6",
   "metadata": {},
   "outputs": [],
   "source": [
    "y = 100"
   ]
  },
  {
   "cell_type": "code",
   "execution_count": 11,
   "id": "ba2825f5",
   "metadata": {},
   "outputs": [
    {
     "name": "stdout",
     "output_type": "stream",
     "text": [
      "100\n"
     ]
    }
   ],
   "source": [
    "print(y)"
   ]
  },
  {
   "cell_type": "code",
   "execution_count": 12,
   "id": "a85091b8",
   "metadata": {},
   "outputs": [
    {
     "data": {
      "text/plain": [
       "100"
      ]
     },
     "execution_count": 12,
     "metadata": {},
     "output_type": "execute_result"
    }
   ],
   "source": [
    "x - y"
   ]
  },
  {
   "cell_type": "code",
   "execution_count": 13,
   "id": "fe9745c9",
   "metadata": {},
   "outputs": [
    {
     "data": {
      "text/plain": [
       "100"
      ]
     },
     "execution_count": 13,
     "metadata": {},
     "output_type": "execute_result"
    }
   ],
   "source": [
    "x - 100"
   ]
  },
  {
   "cell_type": "code",
   "execution_count": 14,
   "id": "e1ea6e68",
   "metadata": {},
   "outputs": [],
   "source": [
    "x = x + 400"
   ]
  },
  {
   "cell_type": "code",
   "execution_count": 15,
   "id": "d5ad8623",
   "metadata": {},
   "outputs": [
    {
     "name": "stdout",
     "output_type": "stream",
     "text": [
      "600\n"
     ]
    }
   ],
   "source": [
    "print(x)"
   ]
  },
  {
   "cell_type": "code",
   "execution_count": 16,
   "id": "f2fd3e0d",
   "metadata": {},
   "outputs": [],
   "source": [
    "y = y + 400"
   ]
  },
  {
   "cell_type": "code",
   "execution_count": 17,
   "id": "0729a3a7",
   "metadata": {},
   "outputs": [
    {
     "name": "stdout",
     "output_type": "stream",
     "text": [
      "500\n"
     ]
    }
   ],
   "source": [
    "print(y)"
   ]
  },
  {
   "cell_type": "code",
   "execution_count": 18,
   "id": "96d786e7",
   "metadata": {},
   "outputs": [
    {
     "data": {
      "text/plain": [
       "100"
      ]
     },
     "execution_count": 18,
     "metadata": {},
     "output_type": "execute_result"
    }
   ],
   "source": [
    "x - y"
   ]
  },
  {
   "cell_type": "code",
   "execution_count": 19,
   "id": "267d4ed6",
   "metadata": {},
   "outputs": [],
   "source": [
    "x = 10.5"
   ]
  },
  {
   "cell_type": "code",
   "execution_count": 20,
   "id": "bc9377e0",
   "metadata": {},
   "outputs": [
    {
     "name": "stdout",
     "output_type": "stream",
     "text": [
      "10.5\n"
     ]
    }
   ],
   "source": [
    "print(x)"
   ]
  },
  {
   "cell_type": "code",
   "execution_count": 21,
   "id": "09f84b39",
   "metadata": {},
   "outputs": [],
   "source": [
    "y = 5.25"
   ]
  },
  {
   "cell_type": "code",
   "execution_count": 22,
   "id": "77b0db5d",
   "metadata": {},
   "outputs": [
    {
     "name": "stdout",
     "output_type": "stream",
     "text": [
      "5.25\n"
     ]
    }
   ],
   "source": [
    "print(y)"
   ]
  },
  {
   "cell_type": "code",
   "execution_count": 23,
   "id": "1810128d",
   "metadata": {},
   "outputs": [
    {
     "data": {
      "text/plain": [
       "2.0"
      ]
     },
     "execution_count": 23,
     "metadata": {},
     "output_type": "execute_result"
    }
   ],
   "source": [
    "x / y"
   ]
  },
  {
   "cell_type": "code",
   "execution_count": 24,
   "id": "55bef46a",
   "metadata": {},
   "outputs": [
    {
     "data": {
      "text/plain": [
       "float"
      ]
     },
     "execution_count": 24,
     "metadata": {},
     "output_type": "execute_result"
    }
   ],
   "source": [
    "type(x)"
   ]
  },
  {
   "cell_type": "code",
   "execution_count": 25,
   "id": "eafaa41e",
   "metadata": {},
   "outputs": [
    {
     "data": {
      "text/plain": [
       "float"
      ]
     },
     "execution_count": 25,
     "metadata": {},
     "output_type": "execute_result"
    }
   ],
   "source": [
    "type(y)"
   ]
  },
  {
   "cell_type": "code",
   "execution_count": 26,
   "id": "4b60ab21",
   "metadata": {},
   "outputs": [],
   "source": [
    "x = 27.597"
   ]
  },
  {
   "cell_type": "code",
   "execution_count": 27,
   "id": "04b85ad9",
   "metadata": {},
   "outputs": [
    {
     "data": {
      "text/plain": [
       "float"
      ]
     },
     "execution_count": 27,
     "metadata": {},
     "output_type": "execute_result"
    }
   ],
   "source": [
    "type(x)"
   ]
  },
  {
   "cell_type": "code",
   "execution_count": 28,
   "id": "b5db9484",
   "metadata": {},
   "outputs": [],
   "source": [
    "y = 11.426"
   ]
  },
  {
   "cell_type": "code",
   "execution_count": 29,
   "id": "5baf16df",
   "metadata": {},
   "outputs": [
    {
     "data": {
      "text/plain": [
       "float"
      ]
     },
     "execution_count": 29,
     "metadata": {},
     "output_type": "execute_result"
    }
   ],
   "source": [
    "type(y)"
   ]
  },
  {
   "cell_type": "code",
   "execution_count": 30,
   "id": "76a6870f",
   "metadata": {},
   "outputs": [
    {
     "data": {
      "text/plain": [
       "2.415280938211098"
      ]
     },
     "execution_count": 30,
     "metadata": {},
     "output_type": "execute_result"
    }
   ],
   "source": [
    "x / y"
   ]
  },
  {
   "cell_type": "code",
   "execution_count": 31,
   "id": "2f39b8e2",
   "metadata": {},
   "outputs": [],
   "source": [
    "a = 'Dear, '"
   ]
  },
  {
   "cell_type": "code",
   "execution_count": 32,
   "id": "5f583c92",
   "metadata": {},
   "outputs": [],
   "source": [
    "b = 'Andrew Ruhnow'"
   ]
  },
  {
   "cell_type": "code",
   "execution_count": 33,
   "id": "f7decc3d",
   "metadata": {},
   "outputs": [
    {
     "data": {
      "text/plain": [
       "'Dear, Andrew Ruhnow'"
      ]
     },
     "execution_count": 33,
     "metadata": {},
     "output_type": "execute_result"
    }
   ],
   "source": [
    "a + b"
   ]
  },
  {
   "cell_type": "code",
   "execution_count": 34,
   "id": "78f28da1",
   "metadata": {},
   "outputs": [],
   "source": [
    "c = 'Hi! '"
   ]
  },
  {
   "cell_type": "code",
   "execution_count": 35,
   "id": "123e400c",
   "metadata": {},
   "outputs": [],
   "source": [
    "d = 'How are you today?'"
   ]
  },
  {
   "cell_type": "code",
   "execution_count": 36,
   "id": "cc89d141",
   "metadata": {},
   "outputs": [
    {
     "data": {
      "text/plain": [
       "'Hi! How are you today?'"
      ]
     },
     "execution_count": 36,
     "metadata": {},
     "output_type": "execute_result"
    }
   ],
   "source": [
    "c + d"
   ]
  },
  {
   "cell_type": "code",
   "execution_count": 37,
   "id": "b705e331",
   "metadata": {},
   "outputs": [],
   "source": [
    "a = \"I'm afraid for the calendar.\""
   ]
  },
  {
   "cell_type": "code",
   "execution_count": 38,
   "id": "dd81f3f7",
   "metadata": {},
   "outputs": [],
   "source": [
    "b = \"Its days are numbered.\""
   ]
  },
  {
   "cell_type": "code",
   "execution_count": 39,
   "id": "43086788",
   "metadata": {},
   "outputs": [],
   "source": [
    "a = \"I'm afraid for the calendar. \""
   ]
  },
  {
   "cell_type": "code",
   "execution_count": 40,
   "id": "67f15b6c",
   "metadata": {},
   "outputs": [
    {
     "data": {
      "text/plain": [
       "\"I'm afraid for the calendar. Its days are numbered.\""
      ]
     },
     "execution_count": 40,
     "metadata": {},
     "output_type": "execute_result"
    }
   ],
   "source": [
    "a + b"
   ]
  },
  {
   "cell_type": "code",
   "execution_count": 41,
   "id": "21fa91c9",
   "metadata": {},
   "outputs": [],
   "source": [
    "c = \"A duck walks into a bar and buys everyone a round. He tells the bartender, \""
   ]
  },
  {
   "cell_type": "code",
   "execution_count": 42,
   "id": "d3f3f514",
   "metadata": {},
   "outputs": [],
   "source": [
    "d = \"Put it on my bill.\""
   ]
  },
  {
   "cell_type": "code",
   "execution_count": 43,
   "id": "7f738a0d",
   "metadata": {},
   "outputs": [
    {
     "data": {
      "text/plain": [
       "'A duck walks into a bar and buys everyone a round. He tells the bartender, Put it on my bill.'"
      ]
     },
     "execution_count": 43,
     "metadata": {},
     "output_type": "execute_result"
    }
   ],
   "source": [
    "c + d"
   ]
  },
  {
   "cell_type": "code",
   "execution_count": 44,
   "id": "d831eebe",
   "metadata": {},
   "outputs": [],
   "source": [
    "a = 'My precious!'"
   ]
  },
  {
   "cell_type": "code",
   "execution_count": 45,
   "id": "14762e70",
   "metadata": {},
   "outputs": [
    {
     "data": {
      "text/plain": [
       "'My precious!My precious!My precious!My precious!My precious!My precious!My precious!My precious!My precious!My precious!My precious!My precious!My precious!My precious!My precious!My precious!My precious!My precious!My precious!My precious!My precious!My precious!My precious!My precious!My precious!My precious!My precious!My precious!My precious!My precious!My precious!My precious!My precious!My precious!My precious!My precious!My precious!My precious!My precious!My precious!My precious!My precious!My precious!My precious!My precious!My precious!My precious!My precious!My precious!My precious!My precious!My precious!My precious!My precious!My precious!My precious!My precious!My precious!My precious!My precious!My precious!My precious!My precious!My precious!My precious!My precious!My precious!My precious!My precious!My precious!My precious!My precious!My precious!My precious!My precious!My precious!My precious!My precious!My precious!My precious!My precious!My precious!My precious!My precious!My precious!My precious!My precious!My precious!My precious!My precious!My precious!My precious!My precious!My precious!My precious!My precious!My precious!My precious!My precious!My precious!'"
      ]
     },
     "execution_count": 45,
     "metadata": {},
     "output_type": "execute_result"
    }
   ],
   "source": [
    "a * 100"
   ]
  },
  {
   "cell_type": "code",
   "execution_count": null,
   "id": "beef56b7",
   "metadata": {},
   "outputs": [],
   "source": []
  }
 ],
 "metadata": {
  "kernelspec": {
   "display_name": "Python 3 (ipykernel)",
   "language": "python",
   "name": "python3"
  },
  "language_info": {
   "codemirror_mode": {
    "name": "ipython",
    "version": 3
   },
   "file_extension": ".py",
   "mimetype": "text/x-python",
   "name": "python",
   "nbconvert_exporter": "python",
   "pygments_lexer": "ipython3",
   "version": "3.11.5"
  }
 },
 "nbformat": 4,
 "nbformat_minor": 5
}
